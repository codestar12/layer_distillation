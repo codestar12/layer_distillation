{
 "cells": [
  {
   "cell_type": "code",
   "execution_count": 1,
   "metadata": {},
   "outputs": [],
   "source": [
    "import json\n",
    "import os"
   ]
  },
  {
   "cell_type": "code",
   "execution_count": 2,
   "metadata": {},
   "outputs": [],
   "source": [
    "with open('test.json') as file:\n",
    "    test = json.load(file)\n",
    "\n",
    "os.mkdir('./test/')\n",
    "\n",
    "for key in test.keys():\n",
    "    os.mkdir(f'./test/{key}')\n",
    "\n",
    "for value in test.values():\n",
    "    for file in value:\n",
    "        os.rename(f'./images/{file}.jpg', f'./test/{file}.jpg')"
   ]
  },
  {
   "cell_type": "code",
   "execution_count": 3,
   "metadata": {},
   "outputs": [],
   "source": [
    "with open('train.json') as file:\n",
    "    train = json.load(file)\n",
    "\n",
    "os.mkdir('./train/')\n",
    "\n",
    "for key in test.keys():\n",
    "    os.mkdir(f'./train/{key}')\n",
    "\n",
    "for value in train.values():\n",
    "    for file in value:\n",
    "        os.rename(f'./images/{file}.jpg', f'./train/{file}.jpg')"
   ]
  },
  {
   "cell_type": "code",
   "execution_count": null,
   "metadata": {},
   "outputs": [],
   "source": []
  }
 ],
 "metadata": {
  "kernelspec": {
   "display_name": "Python 3",
   "language": "python",
   "name": "python3"
  },
  "language_info": {
   "codemirror_mode": {
    "name": "ipython",
    "version": 3
   },
   "file_extension": ".py",
   "mimetype": "text/x-python",
   "name": "python",
   "nbconvert_exporter": "python",
   "pygments_lexer": "ipython3",
   "version": "3.6.7"
  }
 },
 "nbformat": 4,
 "nbformat_minor": 2
}
